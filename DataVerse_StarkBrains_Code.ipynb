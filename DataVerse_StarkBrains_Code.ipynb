{
  "nbformat": 4,
  "nbformat_minor": 0,
  "metadata": {
    "colab": {
      "name": "DataVerse_StarkBrains.ipynb",
      "provenance": [],
      "collapsed_sections": []
    },
    "kernelspec": {
      "name": "python3",
      "display_name": "Python 3"
    },
    "language_info": {
      "name": "python"
    }
  },
  "cells": [
    {
      "cell_type": "code",
      "metadata": {
        "id": "E2AT7eD1q5AL"
      },
      "source": [
        "import pandas as pd"
      ],
      "execution_count": 1,
      "outputs": []
    },
    {
      "cell_type": "code",
      "metadata": {
        "id": "SPgHgtxG8mdQ"
      },
      "source": [
        "import math"
      ],
      "execution_count": 2,
      "outputs": []
    },
    {
      "cell_type": "code",
      "metadata": {
        "id": "i8G2zLRqrN3w"
      },
      "source": [
        "dataset = pd.read_csv(\"Hackathon - Sheet1.csv\")"
      ],
      "execution_count": 3,
      "outputs": []
    },
    {
      "cell_type": "code",
      "metadata": {
        "colab": {
          "base_uri": "https://localhost:8080/",
          "height": 206
        },
        "id": "-mxIoWFsrq_3",
        "outputId": "1b5f5908-7594-4f47-fd25-3827a4b50c08"
      },
      "source": [
        "dataset.head()"
      ],
      "execution_count": 4,
      "outputs": [
        {
          "output_type": "execute_result",
          "data": {
            "text/html": [
              "<div>\n",
              "<style scoped>\n",
              "    .dataframe tbody tr th:only-of-type {\n",
              "        vertical-align: middle;\n",
              "    }\n",
              "\n",
              "    .dataframe tbody tr th {\n",
              "        vertical-align: top;\n",
              "    }\n",
              "\n",
              "    .dataframe thead th {\n",
              "        text-align: right;\n",
              "    }\n",
              "</style>\n",
              "<table border=\"1\" class=\"dataframe\">\n",
              "  <thead>\n",
              "    <tr style=\"text-align: right;\">\n",
              "      <th></th>\n",
              "      <th>Country</th>\n",
              "      <th>Undernourised</th>\n",
              "      <th>Wasting</th>\n",
              "      <th>Stunting</th>\n",
              "      <th>Mortality</th>\n",
              "    </tr>\n",
              "  </thead>\n",
              "  <tbody>\n",
              "    <tr>\n",
              "      <th>0</th>\n",
              "      <td>Afghanistan</td>\n",
              "      <td>25.6</td>\n",
              "      <td>5.1</td>\n",
              "      <td>38.2</td>\n",
              "      <td>6.0</td>\n",
              "    </tr>\n",
              "    <tr>\n",
              "      <th>1</th>\n",
              "      <td>Albania</td>\n",
              "      <td>3.9</td>\n",
              "      <td>1.6</td>\n",
              "      <td>11.3</td>\n",
              "      <td>1.0</td>\n",
              "    </tr>\n",
              "    <tr>\n",
              "      <th>2</th>\n",
              "      <td>Algeria</td>\n",
              "      <td>&lt;2.5</td>\n",
              "      <td>2.7</td>\n",
              "      <td>9.8</td>\n",
              "      <td>2.3</td>\n",
              "    </tr>\n",
              "    <tr>\n",
              "      <th>3</th>\n",
              "      <td>Angola</td>\n",
              "      <td>17.3</td>\n",
              "      <td>4.9</td>\n",
              "      <td>37.6</td>\n",
              "      <td>7.5</td>\n",
              "    </tr>\n",
              "    <tr>\n",
              "      <th>4</th>\n",
              "      <td>Argentina</td>\n",
              "      <td>3.9</td>\n",
              "      <td>1.6</td>\n",
              "      <td>7.9</td>\n",
              "      <td>0.9</td>\n",
              "    </tr>\n",
              "  </tbody>\n",
              "</table>\n",
              "</div>"
            ],
            "text/plain": [
              "       Country Undernourised Wasting Stunting  Mortality\n",
              "0  Afghanistan          25.6     5.1     38.2        6.0\n",
              "1      Albania           3.9     1.6     11.3        1.0\n",
              "2      Algeria          <2.5     2.7      9.8        2.3\n",
              "3       Angola          17.3     4.9     37.6        7.5\n",
              "4    Argentina           3.9     1.6      7.9        0.9"
            ]
          },
          "metadata": {},
          "execution_count": 4
        }
      ]
    },
    {
      "cell_type": "code",
      "metadata": {
        "colab": {
          "base_uri": "https://localhost:8080/",
          "height": 424
        },
        "id": "bW8UKVzgsyoJ",
        "outputId": "d99549aa-3789-4c77-cc94-305c4071e5a6"
      },
      "source": [
        "dataset"
      ],
      "execution_count": 5,
      "outputs": [
        {
          "output_type": "execute_result",
          "data": {
            "text/html": [
              "<div>\n",
              "<style scoped>\n",
              "    .dataframe tbody tr th:only-of-type {\n",
              "        vertical-align: middle;\n",
              "    }\n",
              "\n",
              "    .dataframe tbody tr th {\n",
              "        vertical-align: top;\n",
              "    }\n",
              "\n",
              "    .dataframe thead th {\n",
              "        text-align: right;\n",
              "    }\n",
              "</style>\n",
              "<table border=\"1\" class=\"dataframe\">\n",
              "  <thead>\n",
              "    <tr style=\"text-align: right;\">\n",
              "      <th></th>\n",
              "      <th>Country</th>\n",
              "      <th>Undernourised</th>\n",
              "      <th>Wasting</th>\n",
              "      <th>Stunting</th>\n",
              "      <th>Mortality</th>\n",
              "    </tr>\n",
              "  </thead>\n",
              "  <tbody>\n",
              "    <tr>\n",
              "      <th>0</th>\n",
              "      <td>Afghanistan</td>\n",
              "      <td>25.6</td>\n",
              "      <td>5.1</td>\n",
              "      <td>38.2</td>\n",
              "      <td>6.0</td>\n",
              "    </tr>\n",
              "    <tr>\n",
              "      <th>1</th>\n",
              "      <td>Albania</td>\n",
              "      <td>3.9</td>\n",
              "      <td>1.6</td>\n",
              "      <td>11.3</td>\n",
              "      <td>1.0</td>\n",
              "    </tr>\n",
              "    <tr>\n",
              "      <th>2</th>\n",
              "      <td>Algeria</td>\n",
              "      <td>&lt;2.5</td>\n",
              "      <td>2.7</td>\n",
              "      <td>9.8</td>\n",
              "      <td>2.3</td>\n",
              "    </tr>\n",
              "    <tr>\n",
              "      <th>3</th>\n",
              "      <td>Angola</td>\n",
              "      <td>17.3</td>\n",
              "      <td>4.9</td>\n",
              "      <td>37.6</td>\n",
              "      <td>7.5</td>\n",
              "    </tr>\n",
              "    <tr>\n",
              "      <th>4</th>\n",
              "      <td>Argentina</td>\n",
              "      <td>3.9</td>\n",
              "      <td>1.6</td>\n",
              "      <td>7.9</td>\n",
              "      <td>0.9</td>\n",
              "    </tr>\n",
              "    <tr>\n",
              "      <th>...</th>\n",
              "      <td>...</td>\n",
              "      <td>...</td>\n",
              "      <td>...</td>\n",
              "      <td>...</td>\n",
              "      <td>...</td>\n",
              "    </tr>\n",
              "    <tr>\n",
              "      <th>132</th>\n",
              "      <td>Yemen</td>\n",
              "      <td>45.4</td>\n",
              "      <td>15.1</td>\n",
              "      <td>51.4</td>\n",
              "      <td>5.8</td>\n",
              "    </tr>\n",
              "    <tr>\n",
              "      <th>133</th>\n",
              "      <td>Zambia</td>\n",
              "      <td>—</td>\n",
              "      <td>4.2</td>\n",
              "      <td>34.6</td>\n",
              "      <td>6.2</td>\n",
              "    </tr>\n",
              "    <tr>\n",
              "      <th>134</th>\n",
              "      <td>Zimbabwe</td>\n",
              "      <td>—</td>\n",
              "      <td>2.9</td>\n",
              "      <td>23.5</td>\n",
              "      <td>5.5</td>\n",
              "    </tr>\n",
              "    <tr>\n",
              "      <th>135</th>\n",
              "      <td>NaN</td>\n",
              "      <td>NaN</td>\n",
              "      <td>NaN</td>\n",
              "      <td>NaN</td>\n",
              "      <td>NaN</td>\n",
              "    </tr>\n",
              "    <tr>\n",
              "      <th>136</th>\n",
              "      <td>— = Data not available or not presented. Some ...</td>\n",
              "      <td>NaN</td>\n",
              "      <td>NaN</td>\n",
              "      <td>NaN</td>\n",
              "      <td>NaN</td>\n",
              "    </tr>\n",
              "  </tbody>\n",
              "</table>\n",
              "<p>137 rows × 5 columns</p>\n",
              "</div>"
            ],
            "text/plain": [
              "                                               Country  ... Mortality\n",
              "0                                          Afghanistan  ...       6.0\n",
              "1                                              Albania  ...       1.0\n",
              "2                                              Algeria  ...       2.3\n",
              "3                                               Angola  ...       7.5\n",
              "4                                            Argentina  ...       0.9\n",
              "..                                                 ...  ...       ...\n",
              "132                                              Yemen  ...       5.8\n",
              "133                                             Zambia  ...       6.2\n",
              "134                                           Zimbabwe  ...       5.5\n",
              "135                                                NaN  ...       NaN\n",
              "136  — = Data not available or not presented. Some ...  ...       NaN\n",
              "\n",
              "[137 rows x 5 columns]"
            ]
          },
          "metadata": {},
          "execution_count": 5
        }
      ]
    },
    {
      "cell_type": "markdown",
      "metadata": {
        "id": "0qpZeF-4MLW2"
      },
      "source": [
        "The last two rows have NaN and just text. So it can be dropped"
      ]
    },
    {
      "cell_type": "code",
      "metadata": {
        "id": "xKLR3CeJzjot"
      },
      "source": [
        "dataset = dataset.drop(index=[135,136])"
      ],
      "execution_count": 6,
      "outputs": []
    },
    {
      "cell_type": "code",
      "metadata": {
        "id": "GYUBtDHKr5iO"
      },
      "source": [
        "l=[]\n",
        "for i in range(134):\n",
        "  if(dataset['Undernourised'][i]=='<2.5'):\n",
        "    l.append(dataset['Country'][i])"
      ],
      "execution_count": 7,
      "outputs": []
    },
    {
      "cell_type": "code",
      "metadata": {
        "colab": {
          "base_uri": "https://localhost:8080/"
        },
        "id": "5ulKB4yvtFL_",
        "outputId": "dfdedb50-27b9-4261-85a9-29859b2bd66e"
      },
      "source": [
        "l"
      ],
      "execution_count": 8,
      "outputs": [
        {
          "output_type": "execute_result",
          "data": {
            "text/plain": [
              "['Algeria',\n",
              " 'Azerbaijan',\n",
              " 'Belarus',\n",
              " 'Bosnia & Herzegovina',\n",
              " 'Brazil',\n",
              " 'China',\n",
              " 'Croatia',\n",
              " 'Cuba',\n",
              " 'Estonia',\n",
              " 'Kazakhstan',\n",
              " 'Kuwait',\n",
              " 'Latvia',\n",
              " 'Lithuania',\n",
              " 'Montenegro',\n",
              " 'Romania',\n",
              " 'Russian Federation',\n",
              " 'Turkey',\n",
              " 'Ukraine',\n",
              " 'Uruguay',\n",
              " 'Uzbekistan']"
            ]
          },
          "metadata": {},
          "execution_count": 8
        }
      ]
    },
    {
      "cell_type": "markdown",
      "metadata": {
        "id": "hZMiraK-OFvh"
      },
      "source": [
        "The countries with not-so-well-defined undernourished column values (\"<2.5\") have to be replaced by 2.5"
      ]
    },
    {
      "cell_type": "markdown",
      "metadata": {
        "id": "ok-MEn0IOeQ7"
      },
      "source": [
        "And the countries with unavailable values (\"-\") are to be dropped"
      ]
    },
    {
      "cell_type": "code",
      "metadata": {
        "id": "X2oZOQ0etLrw"
      },
      "source": [
        "for i in range(135):\n",
        "  if('—' in list(dataset.loc[i])):\n",
        "    dataset=dataset.drop(index=i)"
      ],
      "execution_count": 9,
      "outputs": []
    },
    {
      "cell_type": "code",
      "metadata": {
        "colab": {
          "base_uri": "https://localhost:8080/",
          "height": 424
        },
        "id": "eSMmOPJ9t4C4",
        "outputId": "0e6eaac8-a148-43ba-aba4-0fc14e67bbb5"
      },
      "source": [
        "dataset"
      ],
      "execution_count": 10,
      "outputs": [
        {
          "output_type": "execute_result",
          "data": {
            "text/html": [
              "<div>\n",
              "<style scoped>\n",
              "    .dataframe tbody tr th:only-of-type {\n",
              "        vertical-align: middle;\n",
              "    }\n",
              "\n",
              "    .dataframe tbody tr th {\n",
              "        vertical-align: top;\n",
              "    }\n",
              "\n",
              "    .dataframe thead th {\n",
              "        text-align: right;\n",
              "    }\n",
              "</style>\n",
              "<table border=\"1\" class=\"dataframe\">\n",
              "  <thead>\n",
              "    <tr style=\"text-align: right;\">\n",
              "      <th></th>\n",
              "      <th>Country</th>\n",
              "      <th>Undernourised</th>\n",
              "      <th>Wasting</th>\n",
              "      <th>Stunting</th>\n",
              "      <th>Mortality</th>\n",
              "    </tr>\n",
              "  </thead>\n",
              "  <tbody>\n",
              "    <tr>\n",
              "      <th>0</th>\n",
              "      <td>Afghanistan</td>\n",
              "      <td>25.6</td>\n",
              "      <td>5.1</td>\n",
              "      <td>38.2</td>\n",
              "      <td>6.0</td>\n",
              "    </tr>\n",
              "    <tr>\n",
              "      <th>1</th>\n",
              "      <td>Albania</td>\n",
              "      <td>3.9</td>\n",
              "      <td>1.6</td>\n",
              "      <td>11.3</td>\n",
              "      <td>1.0</td>\n",
              "    </tr>\n",
              "    <tr>\n",
              "      <th>2</th>\n",
              "      <td>Algeria</td>\n",
              "      <td>&lt;2.5</td>\n",
              "      <td>2.7</td>\n",
              "      <td>9.8</td>\n",
              "      <td>2.3</td>\n",
              "    </tr>\n",
              "    <tr>\n",
              "      <th>3</th>\n",
              "      <td>Angola</td>\n",
              "      <td>17.3</td>\n",
              "      <td>4.9</td>\n",
              "      <td>37.6</td>\n",
              "      <td>7.5</td>\n",
              "    </tr>\n",
              "    <tr>\n",
              "      <th>4</th>\n",
              "      <td>Argentina</td>\n",
              "      <td>3.9</td>\n",
              "      <td>1.6</td>\n",
              "      <td>7.9</td>\n",
              "      <td>0.9</td>\n",
              "    </tr>\n",
              "    <tr>\n",
              "      <th>...</th>\n",
              "      <td>...</td>\n",
              "      <td>...</td>\n",
              "      <td>...</td>\n",
              "      <td>...</td>\n",
              "      <td>...</td>\n",
              "    </tr>\n",
              "    <tr>\n",
              "      <th>128</th>\n",
              "      <td>Uruguay</td>\n",
              "      <td>&lt;2.5</td>\n",
              "      <td>1.4</td>\n",
              "      <td>6.9</td>\n",
              "      <td>0.7</td>\n",
              "    </tr>\n",
              "    <tr>\n",
              "      <th>129</th>\n",
              "      <td>Uzbekistan</td>\n",
              "      <td>&lt;2.5</td>\n",
              "      <td>1.8</td>\n",
              "      <td>10.8</td>\n",
              "      <td>1.7</td>\n",
              "    </tr>\n",
              "    <tr>\n",
              "      <th>130</th>\n",
              "      <td>Venezuela (Boliv. Rep. of)</td>\n",
              "      <td>27.4</td>\n",
              "      <td>5.2</td>\n",
              "      <td>23.7</td>\n",
              "      <td>2.4</td>\n",
              "    </tr>\n",
              "    <tr>\n",
              "      <th>131</th>\n",
              "      <td>Viet Nam</td>\n",
              "      <td>6.7</td>\n",
              "      <td>5.8</td>\n",
              "      <td>23.8</td>\n",
              "      <td>2.0</td>\n",
              "    </tr>\n",
              "    <tr>\n",
              "      <th>132</th>\n",
              "      <td>Yemen</td>\n",
              "      <td>45.4</td>\n",
              "      <td>15.1</td>\n",
              "      <td>51.4</td>\n",
              "      <td>5.8</td>\n",
              "    </tr>\n",
              "  </tbody>\n",
              "</table>\n",
              "<p>116 rows × 5 columns</p>\n",
              "</div>"
            ],
            "text/plain": [
              "                        Country Undernourised Wasting Stunting  Mortality\n",
              "0                   Afghanistan          25.6     5.1     38.2        6.0\n",
              "1                       Albania           3.9     1.6     11.3        1.0\n",
              "2                       Algeria          <2.5     2.7      9.8        2.3\n",
              "3                        Angola          17.3     4.9     37.6        7.5\n",
              "4                     Argentina           3.9     1.6      7.9        0.9\n",
              "..                          ...           ...     ...      ...        ...\n",
              "128                     Uruguay          <2.5     1.4      6.9        0.7\n",
              "129                  Uzbekistan          <2.5     1.8     10.8        1.7\n",
              "130  Venezuela (Boliv. Rep. of)          27.4     5.2     23.7        2.4\n",
              "131                    Viet Nam           6.7     5.8     23.8        2.0\n",
              "132                       Yemen          45.4    15.1     51.4        5.8\n",
              "\n",
              "[116 rows x 5 columns]"
            ]
          },
          "metadata": {},
          "execution_count": 10
        }
      ]
    },
    {
      "cell_type": "code",
      "metadata": {
        "id": "ZScD5bqm2DiN"
      },
      "source": [
        "dataset=dataset.replace('<2.5','2.5')"
      ],
      "execution_count": 11,
      "outputs": []
    },
    {
      "cell_type": "code",
      "metadata": {
        "colab": {
          "base_uri": "https://localhost:8080/",
          "height": 424
        },
        "id": "KkrIGKVv2Ec3",
        "outputId": "bbf75da5-c7e7-43fb-ff50-e8f2c824729f"
      },
      "source": [
        "dataset"
      ],
      "execution_count": 12,
      "outputs": [
        {
          "output_type": "execute_result",
          "data": {
            "text/html": [
              "<div>\n",
              "<style scoped>\n",
              "    .dataframe tbody tr th:only-of-type {\n",
              "        vertical-align: middle;\n",
              "    }\n",
              "\n",
              "    .dataframe tbody tr th {\n",
              "        vertical-align: top;\n",
              "    }\n",
              "\n",
              "    .dataframe thead th {\n",
              "        text-align: right;\n",
              "    }\n",
              "</style>\n",
              "<table border=\"1\" class=\"dataframe\">\n",
              "  <thead>\n",
              "    <tr style=\"text-align: right;\">\n",
              "      <th></th>\n",
              "      <th>Country</th>\n",
              "      <th>Undernourised</th>\n",
              "      <th>Wasting</th>\n",
              "      <th>Stunting</th>\n",
              "      <th>Mortality</th>\n",
              "    </tr>\n",
              "  </thead>\n",
              "  <tbody>\n",
              "    <tr>\n",
              "      <th>0</th>\n",
              "      <td>Afghanistan</td>\n",
              "      <td>25.6</td>\n",
              "      <td>5.1</td>\n",
              "      <td>38.2</td>\n",
              "      <td>6.0</td>\n",
              "    </tr>\n",
              "    <tr>\n",
              "      <th>1</th>\n",
              "      <td>Albania</td>\n",
              "      <td>3.9</td>\n",
              "      <td>1.6</td>\n",
              "      <td>11.3</td>\n",
              "      <td>1.0</td>\n",
              "    </tr>\n",
              "    <tr>\n",
              "      <th>2</th>\n",
              "      <td>Algeria</td>\n",
              "      <td>2.5</td>\n",
              "      <td>2.7</td>\n",
              "      <td>9.8</td>\n",
              "      <td>2.3</td>\n",
              "    </tr>\n",
              "    <tr>\n",
              "      <th>3</th>\n",
              "      <td>Angola</td>\n",
              "      <td>17.3</td>\n",
              "      <td>4.9</td>\n",
              "      <td>37.6</td>\n",
              "      <td>7.5</td>\n",
              "    </tr>\n",
              "    <tr>\n",
              "      <th>4</th>\n",
              "      <td>Argentina</td>\n",
              "      <td>3.9</td>\n",
              "      <td>1.6</td>\n",
              "      <td>7.9</td>\n",
              "      <td>0.9</td>\n",
              "    </tr>\n",
              "    <tr>\n",
              "      <th>...</th>\n",
              "      <td>...</td>\n",
              "      <td>...</td>\n",
              "      <td>...</td>\n",
              "      <td>...</td>\n",
              "      <td>...</td>\n",
              "    </tr>\n",
              "    <tr>\n",
              "      <th>128</th>\n",
              "      <td>Uruguay</td>\n",
              "      <td>2.5</td>\n",
              "      <td>1.4</td>\n",
              "      <td>6.9</td>\n",
              "      <td>0.7</td>\n",
              "    </tr>\n",
              "    <tr>\n",
              "      <th>129</th>\n",
              "      <td>Uzbekistan</td>\n",
              "      <td>2.5</td>\n",
              "      <td>1.8</td>\n",
              "      <td>10.8</td>\n",
              "      <td>1.7</td>\n",
              "    </tr>\n",
              "    <tr>\n",
              "      <th>130</th>\n",
              "      <td>Venezuela (Boliv. Rep. of)</td>\n",
              "      <td>27.4</td>\n",
              "      <td>5.2</td>\n",
              "      <td>23.7</td>\n",
              "      <td>2.4</td>\n",
              "    </tr>\n",
              "    <tr>\n",
              "      <th>131</th>\n",
              "      <td>Viet Nam</td>\n",
              "      <td>6.7</td>\n",
              "      <td>5.8</td>\n",
              "      <td>23.8</td>\n",
              "      <td>2.0</td>\n",
              "    </tr>\n",
              "    <tr>\n",
              "      <th>132</th>\n",
              "      <td>Yemen</td>\n",
              "      <td>45.4</td>\n",
              "      <td>15.1</td>\n",
              "      <td>51.4</td>\n",
              "      <td>5.8</td>\n",
              "    </tr>\n",
              "  </tbody>\n",
              "</table>\n",
              "<p>116 rows × 5 columns</p>\n",
              "</div>"
            ],
            "text/plain": [
              "                        Country Undernourised Wasting Stunting  Mortality\n",
              "0                   Afghanistan          25.6     5.1     38.2        6.0\n",
              "1                       Albania           3.9     1.6     11.3        1.0\n",
              "2                       Algeria           2.5     2.7      9.8        2.3\n",
              "3                        Angola          17.3     4.9     37.6        7.5\n",
              "4                     Argentina           3.9     1.6      7.9        0.9\n",
              "..                          ...           ...     ...      ...        ...\n",
              "128                     Uruguay           2.5     1.4      6.9        0.7\n",
              "129                  Uzbekistan           2.5     1.8     10.8        1.7\n",
              "130  Venezuela (Boliv. Rep. of)          27.4     5.2     23.7        2.4\n",
              "131                    Viet Nam           6.7     5.8     23.8        2.0\n",
              "132                       Yemen          45.4    15.1     51.4        5.8\n",
              "\n",
              "[116 rows x 5 columns]"
            ]
          },
          "metadata": {},
          "execution_count": 12
        }
      ]
    },
    {
      "cell_type": "markdown",
      "metadata": {
        "id": "5iejQNg-Oill"
      },
      "source": [
        "So, now, the dataset is free of any misleading data"
      ]
    },
    {
      "cell_type": "code",
      "metadata": {
        "colab": {
          "base_uri": "https://localhost:8080/"
        },
        "id": "lPqFLHefOm7F",
        "outputId": "321a45dd-9181-4585-d792-fd82e462f946"
      },
      "source": [
        "dataset['Undernourised'].dtype #isnt int, so has to be converted to int, and apply for all columns"
      ],
      "execution_count": 13,
      "outputs": [
        {
          "output_type": "execute_result",
          "data": {
            "text/plain": [
              "dtype('O')"
            ]
          },
          "metadata": {},
          "execution_count": 13
        }
      ]
    },
    {
      "cell_type": "code",
      "metadata": {
        "id": "ap8QmiJp4zbG"
      },
      "source": [
        "dataset['Undernourised']=pd.to_numeric(dataset['Undernourised'])\n",
        "dataset['Wasting']=pd.to_numeric(dataset['Wasting'])\n",
        "dataset['Stunting']=pd.to_numeric(dataset['Stunting'])\n",
        "dataset['Mortality']=pd.to_numeric(dataset['Mortality'])"
      ],
      "execution_count": 14,
      "outputs": []
    },
    {
      "cell_type": "code",
      "metadata": {
        "colab": {
          "base_uri": "https://localhost:8080/",
          "height": 424
        },
        "id": "r0NceFZx5Pgm",
        "outputId": "89006519-3628-458b-bb32-4fa2b550965d"
      },
      "source": [
        "dataset"
      ],
      "execution_count": 15,
      "outputs": [
        {
          "output_type": "execute_result",
          "data": {
            "text/html": [
              "<div>\n",
              "<style scoped>\n",
              "    .dataframe tbody tr th:only-of-type {\n",
              "        vertical-align: middle;\n",
              "    }\n",
              "\n",
              "    .dataframe tbody tr th {\n",
              "        vertical-align: top;\n",
              "    }\n",
              "\n",
              "    .dataframe thead th {\n",
              "        text-align: right;\n",
              "    }\n",
              "</style>\n",
              "<table border=\"1\" class=\"dataframe\">\n",
              "  <thead>\n",
              "    <tr style=\"text-align: right;\">\n",
              "      <th></th>\n",
              "      <th>Country</th>\n",
              "      <th>Undernourised</th>\n",
              "      <th>Wasting</th>\n",
              "      <th>Stunting</th>\n",
              "      <th>Mortality</th>\n",
              "    </tr>\n",
              "  </thead>\n",
              "  <tbody>\n",
              "    <tr>\n",
              "      <th>0</th>\n",
              "      <td>Afghanistan</td>\n",
              "      <td>25.6</td>\n",
              "      <td>5.1</td>\n",
              "      <td>38.2</td>\n",
              "      <td>6.0</td>\n",
              "    </tr>\n",
              "    <tr>\n",
              "      <th>1</th>\n",
              "      <td>Albania</td>\n",
              "      <td>3.9</td>\n",
              "      <td>1.6</td>\n",
              "      <td>11.3</td>\n",
              "      <td>1.0</td>\n",
              "    </tr>\n",
              "    <tr>\n",
              "      <th>2</th>\n",
              "      <td>Algeria</td>\n",
              "      <td>2.5</td>\n",
              "      <td>2.7</td>\n",
              "      <td>9.8</td>\n",
              "      <td>2.3</td>\n",
              "    </tr>\n",
              "    <tr>\n",
              "      <th>3</th>\n",
              "      <td>Angola</td>\n",
              "      <td>17.3</td>\n",
              "      <td>4.9</td>\n",
              "      <td>37.6</td>\n",
              "      <td>7.5</td>\n",
              "    </tr>\n",
              "    <tr>\n",
              "      <th>4</th>\n",
              "      <td>Argentina</td>\n",
              "      <td>3.9</td>\n",
              "      <td>1.6</td>\n",
              "      <td>7.9</td>\n",
              "      <td>0.9</td>\n",
              "    </tr>\n",
              "    <tr>\n",
              "      <th>...</th>\n",
              "      <td>...</td>\n",
              "      <td>...</td>\n",
              "      <td>...</td>\n",
              "      <td>...</td>\n",
              "      <td>...</td>\n",
              "    </tr>\n",
              "    <tr>\n",
              "      <th>128</th>\n",
              "      <td>Uruguay</td>\n",
              "      <td>2.5</td>\n",
              "      <td>1.4</td>\n",
              "      <td>6.9</td>\n",
              "      <td>0.7</td>\n",
              "    </tr>\n",
              "    <tr>\n",
              "      <th>129</th>\n",
              "      <td>Uzbekistan</td>\n",
              "      <td>2.5</td>\n",
              "      <td>1.8</td>\n",
              "      <td>10.8</td>\n",
              "      <td>1.7</td>\n",
              "    </tr>\n",
              "    <tr>\n",
              "      <th>130</th>\n",
              "      <td>Venezuela (Boliv. Rep. of)</td>\n",
              "      <td>27.4</td>\n",
              "      <td>5.2</td>\n",
              "      <td>23.7</td>\n",
              "      <td>2.4</td>\n",
              "    </tr>\n",
              "    <tr>\n",
              "      <th>131</th>\n",
              "      <td>Viet Nam</td>\n",
              "      <td>6.7</td>\n",
              "      <td>5.8</td>\n",
              "      <td>23.8</td>\n",
              "      <td>2.0</td>\n",
              "    </tr>\n",
              "    <tr>\n",
              "      <th>132</th>\n",
              "      <td>Yemen</td>\n",
              "      <td>45.4</td>\n",
              "      <td>15.1</td>\n",
              "      <td>51.4</td>\n",
              "      <td>5.8</td>\n",
              "    </tr>\n",
              "  </tbody>\n",
              "</table>\n",
              "<p>116 rows × 5 columns</p>\n",
              "</div>"
            ],
            "text/plain": [
              "                        Country  Undernourised  Wasting  Stunting  Mortality\n",
              "0                   Afghanistan           25.6      5.1      38.2        6.0\n",
              "1                       Albania            3.9      1.6      11.3        1.0\n",
              "2                       Algeria            2.5      2.7       9.8        2.3\n",
              "3                        Angola           17.3      4.9      37.6        7.5\n",
              "4                     Argentina            3.9      1.6       7.9        0.9\n",
              "..                          ...            ...      ...       ...        ...\n",
              "128                     Uruguay            2.5      1.4       6.9        0.7\n",
              "129                  Uzbekistan            2.5      1.8      10.8        1.7\n",
              "130  Venezuela (Boliv. Rep. of)           27.4      5.2      23.7        2.4\n",
              "131                    Viet Nam            6.7      5.8      23.8        2.0\n",
              "132                       Yemen           45.4     15.1      51.4        5.8\n",
              "\n",
              "[116 rows x 5 columns]"
            ]
          },
          "metadata": {},
          "execution_count": 15
        }
      ]
    },
    {
      "cell_type": "markdown",
      "metadata": {
        "id": "kRn9p9hiOy8z"
      },
      "source": [
        "The threshold value according to the official formula provided is calculated"
      ]
    },
    {
      "cell_type": "code",
      "metadata": {
        "id": "FjhzQFWh2Fr7"
      },
      "source": [
        "threshold = []\n",
        "for i in dataset.keys()[1:]:\n",
        "  threshold.append(max(list(dataset[i])))"
      ],
      "execution_count": 16,
      "outputs": []
    },
    {
      "cell_type": "code",
      "metadata": {
        "colab": {
          "base_uri": "https://localhost:8080/"
        },
        "id": "rlwIKy4w3FF3",
        "outputId": "ed2f4ca4-68c0-41c7-9bb9-24d53bb0fcb4"
      },
      "source": [
        "threshold"
      ],
      "execution_count": 17,
      "outputs": [
        {
          "output_type": "execute_result",
          "data": {
            "text/plain": [
              "[59.5, 17.3, 52.2, 11.7]"
            ]
          },
          "metadata": {},
          "execution_count": 17
        }
      ]
    },
    {
      "cell_type": "code",
      "metadata": {
        "id": "ZxWB5X6I9W8F"
      },
      "source": [
        "threshold = [65,20,55,15] # standardizing the values"
      ],
      "execution_count": 18,
      "outputs": []
    },
    {
      "cell_type": "code",
      "metadata": {
        "id": "2E3OPRnP9YH5",
        "colab": {
          "base_uri": "https://localhost:8080/"
        },
        "outputId": "93ad9374-d786-4ae6-b215-f50bda3f1a4a"
      },
      "source": [
        "c1 = list(dataset['Undernourised'])\n",
        "c2 = list(dataset['Wasting'])\n",
        "c3 = list(dataset['Stunting'])\n",
        "c4 = list(dataset['Mortality'])\n",
        "hi = []\n",
        "for i in range(116):\n",
        "  hi.append(round(((c1[i]/threshold[0])*(100/3)+(c2[i]/threshold[1])*(100/6)+(c3[i]/threshold[2])*(100/6)+(c4[i]/threshold[3])*(100/3)),1))\n",
        "hi"
      ],
      "execution_count": 19,
      "outputs": [
        {
          "output_type": "execute_result",
          "data": {
            "text/plain": [
              "[42.3,\n",
              " 9.0,\n",
              " 11.6,\n",
              " 41.0,\n",
              " 7.7,\n",
              " 10.9,\n",
              " 12.8,\n",
              " 28.5,\n",
              " 4.6,\n",
              " 37.8,\n",
              " 18.8,\n",
              " 7.4,\n",
              " 33.9,\n",
              " 7.6,\n",
              " 9.0,\n",
              " 40.9,\n",
              " 15.3,\n",
              " 25.4,\n",
              " 31.7,\n",
              " 65.7,\n",
              " 63.1,\n",
              " 4.1,\n",
              " 6.1,\n",
              " 12.8,\n",
              " 43.7,\n",
              " 7.8,\n",
              " 36.8,\n",
              " 3.7,\n",
              " 6.2,\n",
              " 58.3,\n",
              " 42.4,\n",
              " 13.0,\n",
              " 19.5,\n",
              " 18.5,\n",
              " 12.6,\n",
              " 3.3,\n",
              " 26.6,\n",
              " 36.5,\n",
              " 14.2,\n",
              " 25.5,\n",
              " 28.1,\n",
              " 8.9,\n",
              " 24.3,\n",
              " 27.3,\n",
              " 17.3,\n",
              " 47.7,\n",
              " 17.9,\n",
              " 40.3,\n",
              " 26.5,\n",
              " 11.6,\n",
              " 31.3,\n",
              " 12.6,\n",
              " 12.2,\n",
              " 9.8,\n",
              " 33.8,\n",
              " 33.4,\n",
              " 7.1,\n",
              " 12.9,\n",
              " 30.5,\n",
              " 4.4,\n",
              " 13.4,\n",
              " 43.4,\n",
              " 50.7,\n",
              " 4.2,\n",
              " 51.4,\n",
              " 31.1,\n",
              " 18.3,\n",
              " 42.0,\n",
              " 37.4,\n",
              " 18.3,\n",
              " 12.2,\n",
              " 9.4,\n",
              " 5.7,\n",
              " 13.6,\n",
              " 47.3,\n",
              " 27.6,\n",
              " 30.4,\n",
              " 28.9,\n",
              " 19.3,\n",
              " 48.4,\n",
              " 6.9,\n",
              " 17.9,\n",
              " 38.8,\n",
              " 12.8,\n",
              " 40.3,\n",
              " 11.5,\n",
              " 11.4,\n",
              " 24.7,\n",
              " 7.7,\n",
              " 9.8,\n",
              " 36.6,\n",
              " 9.9,\n",
              " 26.1,\n",
              " 6.9,\n",
              " 51.1,\n",
              " 6.0,\n",
              " 26.4,\n",
              " 77.1,\n",
              " 20.2,\n",
              " 22.9,\n",
              " 39.2,\n",
              " 15.6,\n",
              " 36.5,\n",
              " 16.7,\n",
              " 46.8,\n",
              " 37.3,\n",
              " 13.7,\n",
              " 9.6,\n",
              " 6.7,\n",
              " 17.0,\n",
              " 9.9,\n",
              " 6.1,\n",
              " 9.8,\n",
              " 30.9,\n",
              " 19.9,\n",
              " 64.3]"
            ]
          },
          "metadata": {},
          "execution_count": 19
        }
      ]
    },
    {
      "cell_type": "code",
      "metadata": {
        "id": "UWQ0kao2-gQe"
      },
      "source": [
        "Hunger_index = pd.DataFrame(list(zip(dataset['Country'],hi)),columns=[\"Country\",'GHI'])"
      ],
      "execution_count": 20,
      "outputs": []
    },
    {
      "cell_type": "markdown",
      "metadata": {
        "id": "Rym958YlPELU"
      },
      "source": [
        "The final Global hunger index values for each of the countries of the year 2021"
      ]
    },
    {
      "cell_type": "code",
      "metadata": {
        "id": "XwgPsGkWHGxN",
        "colab": {
          "base_uri": "https://localhost:8080/",
          "height": 424
        },
        "outputId": "d1502499-718c-48d5-8592-c21b48f8de17"
      },
      "source": [
        "Hunger_index"
      ],
      "execution_count": 21,
      "outputs": [
        {
          "output_type": "execute_result",
          "data": {
            "text/html": [
              "<div>\n",
              "<style scoped>\n",
              "    .dataframe tbody tr th:only-of-type {\n",
              "        vertical-align: middle;\n",
              "    }\n",
              "\n",
              "    .dataframe tbody tr th {\n",
              "        vertical-align: top;\n",
              "    }\n",
              "\n",
              "    .dataframe thead th {\n",
              "        text-align: right;\n",
              "    }\n",
              "</style>\n",
              "<table border=\"1\" class=\"dataframe\">\n",
              "  <thead>\n",
              "    <tr style=\"text-align: right;\">\n",
              "      <th></th>\n",
              "      <th>Country</th>\n",
              "      <th>GHI</th>\n",
              "    </tr>\n",
              "  </thead>\n",
              "  <tbody>\n",
              "    <tr>\n",
              "      <th>0</th>\n",
              "      <td>Afghanistan</td>\n",
              "      <td>42.3</td>\n",
              "    </tr>\n",
              "    <tr>\n",
              "      <th>1</th>\n",
              "      <td>Albania</td>\n",
              "      <td>9.0</td>\n",
              "    </tr>\n",
              "    <tr>\n",
              "      <th>2</th>\n",
              "      <td>Algeria</td>\n",
              "      <td>11.6</td>\n",
              "    </tr>\n",
              "    <tr>\n",
              "      <th>3</th>\n",
              "      <td>Angola</td>\n",
              "      <td>41.0</td>\n",
              "    </tr>\n",
              "    <tr>\n",
              "      <th>4</th>\n",
              "      <td>Argentina</td>\n",
              "      <td>7.7</td>\n",
              "    </tr>\n",
              "    <tr>\n",
              "      <th>...</th>\n",
              "      <td>...</td>\n",
              "      <td>...</td>\n",
              "    </tr>\n",
              "    <tr>\n",
              "      <th>111</th>\n",
              "      <td>Uruguay</td>\n",
              "      <td>6.1</td>\n",
              "    </tr>\n",
              "    <tr>\n",
              "      <th>112</th>\n",
              "      <td>Uzbekistan</td>\n",
              "      <td>9.8</td>\n",
              "    </tr>\n",
              "    <tr>\n",
              "      <th>113</th>\n",
              "      <td>Venezuela (Boliv. Rep. of)</td>\n",
              "      <td>30.9</td>\n",
              "    </tr>\n",
              "    <tr>\n",
              "      <th>114</th>\n",
              "      <td>Viet Nam</td>\n",
              "      <td>19.9</td>\n",
              "    </tr>\n",
              "    <tr>\n",
              "      <th>115</th>\n",
              "      <td>Yemen</td>\n",
              "      <td>64.3</td>\n",
              "    </tr>\n",
              "  </tbody>\n",
              "</table>\n",
              "<p>116 rows × 2 columns</p>\n",
              "</div>"
            ],
            "text/plain": [
              "                        Country   GHI\n",
              "0                   Afghanistan  42.3\n",
              "1                       Albania   9.0\n",
              "2                       Algeria  11.6\n",
              "3                        Angola  41.0\n",
              "4                     Argentina   7.7\n",
              "..                          ...   ...\n",
              "111                     Uruguay   6.1\n",
              "112                  Uzbekistan   9.8\n",
              "113  Venezuela (Boliv. Rep. of)  30.9\n",
              "114                    Viet Nam  19.9\n",
              "115                       Yemen  64.3\n",
              "\n",
              "[116 rows x 2 columns]"
            ]
          },
          "metadata": {},
          "execution_count": 21
        }
      ]
    },
    {
      "cell_type": "code",
      "metadata": {
        "id": "MH0wBY3oKcjH"
      },
      "source": [
        ""
      ],
      "execution_count": 21,
      "outputs": []
    }
  ]
}